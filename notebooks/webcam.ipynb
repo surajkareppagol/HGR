{
 "cells": [
  {
   "cell_type": "code",
   "execution_count": null,
   "metadata": {},
   "outputs": [],
   "source": [
    "import os\n",
    "\n",
    "import cv2\n",
    "import mediapipe as mp\n",
    "from mediapipe.tasks import python\n",
    "from mediapipe.tasks.python import vision"
   ]
  },
  {
   "cell_type": "markdown",
   "metadata": {},
   "source": [
    "```py\n",
    "# image = mp.Image.create_from_file(\"photo.jpg\")\n",
    "\n",
    "# <mediapipe.python._framework_bindings.image.Image object at 0x74b9d96019d0>\n",
    "# <mediapipe.python._framework_bindings.image.Image object at 0x7b942db09910>\n",
    "```"
   ]
  },
  {
   "cell_type": "markdown",
   "metadata": {},
   "source": [
    "Create a GestureRecognizer object"
   ]
  },
  {
   "cell_type": "code",
   "execution_count": null,
   "metadata": {},
   "outputs": [],
   "source": [
    "model_path = os.path.abspath(\"../tasks/custom_gestures.task\")\n",
    "recognizer = vision.GestureRecognizer.create_from_model_path(model_path)"
   ]
  },
  {
   "cell_type": "markdown",
   "metadata": {},
   "source": [
    "Start the webcam and begin capturing"
   ]
  },
  {
   "cell_type": "code",
   "execution_count": 3,
   "metadata": {},
   "outputs": [],
   "source": [
    "capture = cv2.VideoCapture(0)\n",
    "top_gesture = None\n",
    "rating = None"
   ]
  },
  {
   "cell_type": "markdown",
   "metadata": {},
   "source": [
    "Read the frames and recognize the gestures"
   ]
  },
  {
   "cell_type": "code",
   "execution_count": null,
   "metadata": {},
   "outputs": [],
   "source": [
    "while True:\n",
    "    success, frame = capture.read()\n",
    "\n",
    "    image = mp.Image(image_format=mp.ImageFormat.SRGB, data=frame)\n",
    "\n",
    "    recognition_result = recognizer.recognize(image)\n",
    "\n",
    "    if len(recognition_result.gestures) > 0:\n",
    "        top_gesture = recognition_result.gestures[0][0]\n",
    "\n",
    "    if not top_gesture:\n",
    "        result = \"None\"\n",
    "        rating = 0.0\n",
    "    else:\n",
    "        result = top_gesture.category_name\n",
    "        rating = top_gesture.score\n",
    "\n",
    "    print(f\"Gesture recognized: {result} ({rating})\")\n",
    "\n",
    "    cv2.putText(\n",
    "        frame,\n",
    "        f\"{result}\",\n",
    "        (0, 40),\n",
    "        cv2.FONT_HERSHEY_PLAIN,\n",
    "        3.0,\n",
    "        (0, 0, 0),\n",
    "        3,\n",
    "    )\n",
    "        \n",
    "    cv2.imshow(\"img\", frame)\n",
    "\n",
    "    if cv2.waitKey(20) & 0xFF == ord(\"q\"):\n",
    "        cv2.destroyAllWindows()\n",
    "        break"
   ]
  }
 ],
 "metadata": {
  "kernelspec": {
   "display_name": "venv",
   "language": "python",
   "name": "python3"
  },
  "language_info": {
   "codemirror_mode": {
    "name": "ipython",
    "version": 3
   },
   "file_extension": ".py",
   "mimetype": "text/x-python",
   "name": "python",
   "nbconvert_exporter": "python",
   "pygments_lexer": "ipython3",
   "version": "3.11.8"
  }
 },
 "nbformat": 4,
 "nbformat_minor": 2
}
