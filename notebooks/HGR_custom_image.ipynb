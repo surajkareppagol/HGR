{
 "cells": [
  {
   "cell_type": "code",
   "execution_count": null,
   "metadata": {},
   "outputs": [],
   "source": [
    "import cv2\n",
    "import mediapipe as mp\n",
    "from mediapipe.tasks import python\n",
    "from mediapipe.tasks.python import vision"
   ]
  },
  {
   "cell_type": "code",
   "execution_count": 2,
   "metadata": {},
   "outputs": [],
   "source": [
    "# img = cv2.imread(\"../data/Rock-Image.jpg\")\n",
    "img_path = \"../data/Rock-Image.jpg\"\n",
    "\n",
    "img = cv2.imread(img_path)\n",
    "cv2.imshow(\"img\", img)"
   ]
  },
  {
   "cell_type": "markdown",
   "metadata": {},
   "source": [
    "Create a GestureRecognizer object"
   ]
  },
  {
   "cell_type": "code",
   "execution_count": null,
   "metadata": {},
   "outputs": [],
   "source": [
    "model_path = \"../tasks/custom_model.task\"\n",
    "recognizer = vision.GestureRecognizer.create_from_model_path(model_path)"
   ]
  },
  {
   "cell_type": "markdown",
   "metadata": {},
   "source": [
    "Load the input image"
   ]
  },
  {
   "cell_type": "code",
   "execution_count": 7,
   "metadata": {},
   "outputs": [],
   "source": [
    "image = mp.Image.create_from_file(img_path)"
   ]
  },
  {
   "cell_type": "markdown",
   "metadata": {},
   "source": [
    "Run gesture recognition"
   ]
  },
  {
   "cell_type": "code",
   "execution_count": 8,
   "metadata": {},
   "outputs": [],
   "source": [
    "recognition_result = recognizer.recognize(image)"
   ]
  },
  {
   "cell_type": "markdown",
   "metadata": {},
   "source": [
    "Display the most likely gesture"
   ]
  },
  {
   "cell_type": "code",
   "execution_count": 9,
   "metadata": {},
   "outputs": [
    {
     "name": "stdout",
     "output_type": "stream",
     "text": [
      "Gesture recognized: rock (0.6615394949913025)\n"
     ]
    }
   ],
   "source": [
    "top_gesture = recognition_result.gestures[0][0]\n",
    "print(f\"Gesture recognized: {top_gesture.category_name} ({top_gesture.score})\")\n",
    "\n",
    "cv2.putText(img, f\"{top_gesture.category_name}\", (0, 40), cv2.FONT_HERSHEY_DUPLEX, 1.0, (0, 0, 0), 2)\n",
    "\n",
    "cv2.imshow(\"img\", img)\n",
    "if cv2.waitKey(0) & 0xFF == ord(\"q\"):\n",
    "    cv2.destroyAllWindows()"
   ]
  }
 ],
 "metadata": {
  "kernelspec": {
   "display_name": "Python 3 (ipykernel)",
   "language": "python",
   "name": "python3"
  },
  "language_info": {
   "codemirror_mode": {
    "name": "ipython",
    "version": 3
   },
   "file_extension": ".py",
   "mimetype": "text/x-python",
   "name": "python",
   "nbconvert_exporter": "python",
   "pygments_lexer": "ipython3",
   "version": "3.11.8"
  }
 },
 "nbformat": 4,
 "nbformat_minor": 4
}
