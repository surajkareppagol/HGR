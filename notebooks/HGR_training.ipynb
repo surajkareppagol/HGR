{
 "cells": [
  {
   "cell_type": "markdown",
   "metadata": {},
   "source": [
    "# Custom Gesture Creation"
   ]
  },
  {
   "cell_type": "code",
   "execution_count": 1,
   "metadata": {},
   "outputs": [
    {
     "name": "stderr",
     "output_type": "stream",
     "text": [
      "2024-03-27 13:12:51.440492: E external/local_xla/xla/stream_executor/cuda/cuda_dnn.cc:9261] Unable to register cuDNN factory: Attempting to register factory for plugin cuDNN when one has already been registered\n",
      "2024-03-27 13:12:51.440545: E external/local_xla/xla/stream_executor/cuda/cuda_fft.cc:607] Unable to register cuFFT factory: Attempting to register factory for plugin cuFFT when one has already been registered\n",
      "2024-03-27 13:12:51.442423: E external/local_xla/xla/stream_executor/cuda/cuda_blas.cc:1515] Unable to register cuBLAS factory: Attempting to register factory for plugin cuBLAS when one has already been registered\n",
      "2024-03-27 13:12:51.457205: I tensorflow/core/platform/cpu_feature_guard.cc:182] This TensorFlow binary is optimized to use available CPU instructions in performance-critical operations.\n",
      "To enable the following instructions: AVX2 FMA, in other operations, rebuild TensorFlow with the appropriate compiler flags.\n",
      "2024-03-27 13:12:53.265821: W tensorflow/compiler/tf2tensorrt/utils/py_utils.cc:38] TF-TRT Warning: Could not find TensorRT\n",
      "/home/Suraj/Documents/GitHub/HGR/venv/lib/python3.11/site-packages/tensorflow_addons/utils/tfa_eol_msg.py:23: UserWarning: \n",
      "\n",
      "TensorFlow Addons (TFA) has ended development and introduction of new features.\n",
      "TFA has entered a minimal maintenance and release mode until a planned end of life in May 2024.\n",
      "Please modify downstream libraries to take dependencies from other repositories in our TensorFlow community (e.g. Keras, Keras-CV, and Keras-NLP). \n",
      "\n",
      "For more information see: https://github.com/tensorflow/addons/issues/2807 \n",
      "\n",
      "  warnings.warn(\n",
      "/home/Suraj/Documents/GitHub/HGR/venv/lib/python3.11/site-packages/tqdm/auto.py:21: TqdmWarning: IProgress not found. Please update jupyter and ipywidgets. See https://ipywidgets.readthedocs.io/en/stable/user_install.html\n",
      "  from .autonotebook import tqdm as notebook_tqdm\n"
     ]
    }
   ],
   "source": [
    "import os\n",
    "import tensorflow as tf\n",
    "from mediapipe_model_maker import gesture_recognizer\n",
    "\n",
    "import matplotlib.pyplot as plt"
   ]
  },
  {
   "cell_type": "markdown",
   "metadata": {},
   "source": [
    "## Get The Dataset\n",
    "\n",
    "The dataset for gesture recognition in model maker requires the following format: `<dataset_path>/<label_name>/<img_name>.*`. In addition, one of the label names (label_names) must be none. The none label represents any gesture that isn't classified as one of the other gestures.\n",
    "\n",
    "This example uses a rock paper scissors dataset sample which is downloaded from GCS."
   ]
  },
  {
   "cell_type": "code",
   "execution_count": 2,
   "metadata": {},
   "outputs": [],
   "source": [
    "dataset_path = \"../data/Rock-Paper-Scissors-Data\""
   ]
  },
  {
   "cell_type": "code",
   "execution_count": 3,
   "metadata": {},
   "outputs": [
    {
     "name": "stdout",
     "output_type": "stream",
     "text": [
      "../data/Rock-Paper-Scissors-Data\n",
      "['none', 'rock', 'paper', 'scissors']\n"
     ]
    }
   ],
   "source": [
    "print(dataset_path)\n",
    "labels = []\n",
    "for i in os.listdir(dataset_path):\n",
    "  if os.path.isdir(os.path.join(dataset_path, i)):\n",
    "    labels.append(i)\n",
    "print(labels)"
   ]
  },
  {
   "cell_type": "code",
   "execution_count": 4,
   "metadata": {},
   "outputs": [
    {
     "name": "stderr",
     "output_type": "stream",
     "text": [
      "/tmp/ipykernel_12557/544766458.py:13: UserWarning: FigureCanvasAgg is non-interactive, and thus cannot be shown\n",
      "  plt.show()\n"
     ]
    }
   ],
   "source": [
    "NUM_EXAMPLES = 5\n",
    "\n",
    "for label in labels:\n",
    "  label_dir = os.path.join(dataset_path, label)\n",
    "  example_filenames = os.listdir(label_dir)[:NUM_EXAMPLES]\n",
    "  fig, axs = plt.subplots(1, NUM_EXAMPLES, figsize=(10,2))\n",
    "  for i in range(NUM_EXAMPLES):\n",
    "    axs[i].imshow(plt.imread(os.path.join(label_dir, example_filenames[i])))\n",
    "    axs[i].get_xaxis().set_visible(False)\n",
    "    axs[i].get_yaxis().set_visible(False)\n",
    "  fig.suptitle(f'Showing {NUM_EXAMPLES} examples for {label}')\n",
    "\n",
    "plt.show()"
   ]
  },
  {
   "cell_type": "markdown",
   "metadata": {},
   "source": [
    "## Load the dataset\n",
    "\n",
    "Load the dataset located at dataset_path by using the Dataset.from_folder method. When loading the dataset, run the pre-packaged hand detection model from MediaPipe Hands to detect the hand landmarks from the images. Any images without detected hands are ommitted from the dataset. The resulting dataset will contain the extracted hand landmark positions from each image, rather than images themselves.\n",
    "\n",
    "The HandDataPreprocessingParams class contains two configurable options for the data loading process:\n",
    "\n",
    "`shuffle`: A boolean controlling whether to shuffle the dataset. Defaults to true.\n",
    "`min_detection_confidence`: A float between 0 and 1 controlling the confidence threshold for hand detection.\n",
    "`Split the dataset`: 80% for training, 10% for validation, and 10% for testing."
   ]
  },
  {
   "cell_type": "code",
   "execution_count": null,
   "metadata": {},
   "outputs": [],
   "source": [
    "data = gesture_recognizer.Dataset.from_folder(\n",
    "    dirname=dataset_path,\n",
    "    hparams=gesture_recognizer.HandDataPreprocessingParams()\n",
    ")\n",
    "train_data, rest_data = data.split(0.8)\n",
    "validation_data, test_data = rest_data.split(0.5)"
   ]
  },
  {
   "cell_type": "markdown",
   "metadata": {},
   "source": [
    "## Train the model\n",
    "\n",
    "Train the custom gesture recognizer by using the create method and passing in the training data, validation data, model options, and hyperparameters. For more information on model options and hyperparameters, see the Hyperparameters section below."
   ]
  },
  {
   "cell_type": "code",
   "execution_count": 8,
   "metadata": {},
   "outputs": [
    {
     "name": "stdout",
     "output_type": "stream",
     "text": [
      "Model: \"model_1\"\n",
      "_________________________________________________________________\n",
      " Layer (type)                Output Shape              Param #   \n",
      "=================================================================\n",
      " hand_embedding (InputLayer  [(None, 128)]             0         \n",
      " )                                                               \n",
      "                                                                 \n",
      " batch_normalization_1 (Bat  (None, 128)               512       \n",
      " chNormalization)                                                \n",
      "                                                                 \n",
      " re_lu_1 (ReLU)              (None, 128)               0         \n",
      "                                                                 \n",
      " dropout_1 (Dropout)         (None, 128)               0         \n",
      "                                                                 \n",
      " custom_gesture_recognizer_  (None, 4)                 516       \n",
      " out (Dense)                                                     \n",
      "                                                                 \n",
      "=================================================================\n",
      "Total params: 1028 (4.02 KB)\n",
      "Trainable params: 772 (3.02 KB)\n",
      "Non-trainable params: 256 (1.00 KB)\n",
      "_________________________________________________________________\n",
      "None\n",
      "INFO:tensorflow:Training the models...\n"
     ]
    },
    {
     "name": "stderr",
     "output_type": "stream",
     "text": [
      "INFO:tensorflow:Training the models...\n"
     ]
    },
    {
     "name": "stdout",
     "output_type": "stream",
     "text": [
      "Resuming from ../tasks/epoch_models/model-0040\n",
      "Epoch 1/10\n",
      "189/189 [==============================] - 6s 18ms/step - loss: 0.5311 - categorical_accuracy: 0.6852 - val_loss: 0.1997 - val_categorical_accuracy: 0.8511 - lr: 0.0030\n",
      "Epoch 2/10\n",
      "189/189 [==============================] - 2s 12ms/step - loss: 0.4693 - categorical_accuracy: 0.6905 - val_loss: 0.1890 - val_categorical_accuracy: 0.8511 - lr: 0.0030\n",
      "Epoch 3/10\n",
      "189/189 [==============================] - 2s 11ms/step - loss: 0.4504 - categorical_accuracy: 0.6799 - val_loss: 0.2090 - val_categorical_accuracy: 0.8511 - lr: 0.0029\n",
      "Epoch 4/10\n",
      "189/189 [==============================] - 2s 11ms/step - loss: 0.4129 - categorical_accuracy: 0.6984 - val_loss: 0.2066 - val_categorical_accuracy: 0.8511 - lr: 0.0029\n",
      "Epoch 5/10\n",
      "189/189 [==============================] - 3s 16ms/step - loss: 0.4320 - categorical_accuracy: 0.6825 - val_loss: 0.1986 - val_categorical_accuracy: 0.8723 - lr: 0.0029\n",
      "Epoch 6/10\n",
      "189/189 [==============================] - 2s 11ms/step - loss: 0.4143 - categorical_accuracy: 0.6614 - val_loss: 0.1929 - val_categorical_accuracy: 0.8723 - lr: 0.0029\n",
      "Epoch 7/10\n",
      "189/189 [==============================] - 3s 15ms/step - loss: 0.3722 - categorical_accuracy: 0.7090 - val_loss: 0.1981 - val_categorical_accuracy: 0.8723 - lr: 0.0028\n",
      "Epoch 8/10\n",
      "189/189 [==============================] - 3s 14ms/step - loss: 0.3899 - categorical_accuracy: 0.6984 - val_loss: 0.1977 - val_categorical_accuracy: 0.8723 - lr: 0.0028\n",
      "Epoch 9/10\n",
      "189/189 [==============================] - 3s 14ms/step - loss: 0.3788 - categorical_accuracy: 0.6984 - val_loss: 0.2011 - val_categorical_accuracy: 0.8298 - lr: 0.0028\n",
      "Epoch 10/10\n",
      "189/189 [==============================] - 3s 13ms/step - loss: 0.3638 - categorical_accuracy: 0.7196 - val_loss: 0.1952 - val_categorical_accuracy: 0.8511 - lr: 0.0027\n"
     ]
    }
   ],
   "source": [
    "hparams = gesture_recognizer.HParams(learning_rate=0.003, export_dir=\"../tasks\")\n",
    "options = gesture_recognizer.GestureRecognizerOptions(hparams=hparams)\n",
    "model = gesture_recognizer.GestureRecognizer.create(\n",
    "    train_data=train_data,\n",
    "    validation_data=validation_data,\n",
    "    options=options\n",
    ")"
   ]
  },
  {
   "cell_type": "markdown",
   "metadata": {},
   "source": [
    "## Evaluate the model performance\n",
    "\n",
    "After training the model, evaluate it on a test dataset and print the loss and accuracy metrics.\n"
   ]
  },
  {
   "cell_type": "code",
   "execution_count": 9,
   "metadata": {},
   "outputs": [
    {
     "name": "stdout",
     "output_type": "stream",
     "text": [
      "48/48 [==============================] - 1s 4ms/step - loss: 0.2307 - categorical_accuracy: 0.8542\n",
      "Test loss:0.2307489663362503, Test accuracy:0.8541666865348816\n"
     ]
    }
   ],
   "source": [
    "loss, acc = model.evaluate(test_data, batch_size=1)\n",
    "print(f\"Test loss:{loss}, Test accuracy:{acc}\")"
   ]
  },
  {
   "cell_type": "markdown",
   "metadata": {},
   "source": [
    "## Export to Tensorflow Lite Model\n",
    "\n",
    "After creating the model, convert and export it to a Tensorflow Lite model format for later use on an on-device application. The export also includes model metadata, which includes the label file.\n"
   ]
  },
  {
   "cell_type": "code",
   "execution_count": 13,
   "metadata": {},
   "outputs": [
    {
     "name": "stdout",
     "output_type": "stream",
     "text": [
      "Using existing files at /tmp/model_maker/gesture_recognizer/gesture_embedder.tflite\n",
      "Using existing files at /tmp/model_maker/gesture_recognizer/palm_detection_full.tflite\n",
      "Using existing files at /tmp/model_maker/gesture_recognizer/hand_landmark_full.tflite\n",
      "Using existing files at /tmp/model_maker/gesture_recognizer/canned_gesture_classifier.tflite\n",
      "INFO:tensorflow:Assets written to: /tmp/tmp30s7vxh2/saved_model/assets\n"
     ]
    },
    {
     "name": "stderr",
     "output_type": "stream",
     "text": [
      "INFO:tensorflow:Assets written to: /tmp/tmp30s7vxh2/saved_model/assets\n",
      "2024-03-27 13:28:03.034468: W tensorflow/compiler/mlir/lite/python/tf_tfl_flatbuffer_helpers.cc:378] Ignored output_format.\n",
      "2024-03-27 13:28:03.034506: W tensorflow/compiler/mlir/lite/python/tf_tfl_flatbuffer_helpers.cc:381] Ignored drop_control_dependency.\n",
      "2024-03-27 13:28:03.034738: I tensorflow/cc/saved_model/reader.cc:83] Reading SavedModel from: /tmp/tmp30s7vxh2/saved_model\n",
      "2024-03-27 13:28:03.035843: I tensorflow/cc/saved_model/reader.cc:51] Reading meta graph with tags { serve }\n",
      "2024-03-27 13:28:03.035860: I tensorflow/cc/saved_model/reader.cc:146] Reading SavedModel debug info (if present) from: /tmp/tmp30s7vxh2/saved_model\n",
      "2024-03-27 13:28:03.038415: I tensorflow/cc/saved_model/loader.cc:233] Restoring SavedModel bundle.\n",
      "2024-03-27 13:28:03.079909: I tensorflow/cc/saved_model/loader.cc:217] Running initialization op on SavedModel bundle at path: /tmp/tmp30s7vxh2/saved_model\n",
      "2024-03-27 13:28:03.097319: I tensorflow/cc/saved_model/loader.cc:316] SavedModel load for tags { serve }; Status: success: OK. Took 62582 microseconds.\n",
      "Summary on the non-converted ops:\n",
      "---------------------------------\n",
      " * Accepted dialects: tfl, builtin, func\n",
      " * Non-Converted Ops: 4, Total Ops 11, % non-converted = 36.36 %\n",
      " * 4 ARITH ops\n",
      "\n",
      "- arith.constant:    4 occurrences  (f32: 4)\n",
      "\n",
      "\n",
      "\n",
      "  (f32: 1)\n",
      "  (f32: 1)\n",
      "  (f32: 1)\n",
      "  (f32: 1)\n"
     ]
    }
   ],
   "source": [
    "model.export_model(\"custom_model.task\")"
   ]
  },
  {
   "cell_type": "markdown",
   "metadata": {},
   "source": [
    "## Hyperparameters\n",
    "\n",
    "You can further customize the model using the GestureRecognizerOptions class, which has two optional parameters for ModelOptions and HParams. Use the ModelOptions class to customize parameters related to the model itself, and the HParams class to customize other parameters related to training and saving the model.\n",
    "\n",
    "ModelOptions has one customizable parameter that affects accuracy:\n",
    "\n",
    "`dropout_rate`: The fraction of the input units to drop. Used in dropout layer. Defaults to 0.05.\n",
    "`layer_widths`: A list of hidden layer widths for the gesture model. Each element in the list will create a new hidden layer with the specified width. The hidden layers are separated with BatchNorm, Dropout, and ReLU. Defaults to an empty list(no hidden layers).\n",
    "\n",
    "HParams has the following list of customizable parameters which affect model accuracy:\n",
    "\n",
    "`learning_rate`: The learning rate to use for gradient descent training. Defaults to 0.001.\n",
    "`batch_size`: Batch size for training. Defaults to 2.\n",
    "`epochs`: Number of training iterations over the dataset. Defaults to 10.\n",
    "`steps_per_epoch`: An optional integer that indicates the number of training steps per epoch. If not set, the training pipeline calculates the default steps per epoch as the training dataset size divided by batch size.\n",
    "`shuffle`: True if the dataset is shuffled before training. Defaults to False.\n",
    "`lr_decay`: Learning rate decay to use for gradient descent training. Defaults to 0.99.\n",
    "`gamma`: Gamma parameter for focal loss. Defaults to 2\n",
    "\n",
    "Additional HParams parameter that does not affect model accuracy:\n",
    "\n",
    "`export_dir`: The location of the model checkpoint files and exported model files."
   ]
  },
  {
   "cell_type": "markdown",
   "metadata": {},
   "source": [
    "For example, the following trains a new model with the dropout_rate of 0.2 and learning rate of 0.003."
   ]
  },
  {
   "cell_type": "code",
   "execution_count": null,
   "metadata": {},
   "outputs": [],
   "source": [
    "hparams = gesture_recognizer.HParams(learning_rate=0.003, export_dir=\"exported_model_2\")\n",
    "model_options = gesture_recognizer.ModelOptions(dropout_rate=0.2)\n",
    "options = gesture_recognizer.GestureRecognizerOptions(model_options=model_options, hparams=hparams)\n",
    "model_2 = gesture_recognizer.GestureRecognizer.create(\n",
    "    train_data=train_data,\n",
    "    validation_data=validation_data,\n",
    "    options=options\n",
    ")"
   ]
  },
  {
   "cell_type": "code",
   "execution_count": null,
   "metadata": {},
   "outputs": [],
   "source": [
    "loss, accuracy = model_2.evaluate(test_data)\n",
    "print(f\"Test loss:{loss}, Test accuracy:{accuracy}\")"
   ]
  }
 ],
 "metadata": {
  "kernelspec": {
   "display_name": "venv",
   "language": "python",
   "name": "python3"
  },
  "language_info": {
   "codemirror_mode": {
    "name": "ipython",
    "version": 3
   },
   "file_extension": ".py",
   "mimetype": "text/x-python",
   "name": "python",
   "nbconvert_exporter": "python",
   "pygments_lexer": "ipython3",
   "version": "3.11.8"
  }
 },
 "nbformat": 4,
 "nbformat_minor": 2
}
