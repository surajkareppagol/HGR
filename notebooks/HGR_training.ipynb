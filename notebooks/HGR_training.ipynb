{
 "cells": [
  {
   "cell_type": "markdown",
   "metadata": {},
   "source": [
    "# Custom Gesture Creation"
   ]
  },
  {
   "cell_type": "code",
   "execution_count": 14,
   "metadata": {},
   "outputs": [],
   "source": [
    "import os\n",
    "import tensorflow as tf\n",
    "from mediapipe_model_maker import gesture_recognizer\n",
    "\n",
    "import matplotlib.pyplot as plt"
   ]
  },
  {
   "cell_type": "markdown",
   "metadata": {},
   "source": [
    "## Get The Dataset\n",
    "\n",
    "The dataset for gesture recognition in model maker requires the following format: `<dataset_path>/<label_name>/<img_name>.*`. In addition, one of the label names (label_names) must be none. The none label represents any gesture that isn't classified as one of the other gestures.\n",
    "\n",
    "This example uses a rock paper scissors dataset sample which is downloaded from GCS."
   ]
  },
  {
   "cell_type": "code",
   "execution_count": 15,
   "metadata": {},
   "outputs": [],
   "source": [
    "dataset_path = \"../data/Rock-Paper-Scissors-Data\""
   ]
  },
  {
   "cell_type": "code",
   "execution_count": 16,
   "metadata": {},
   "outputs": [
    {
     "name": "stdout",
     "output_type": "stream",
     "text": [
      "../data/Rock-Paper-Scissors-Data\n",
      "['none', 'rock', 'paper', 'scissors']\n"
     ]
    }
   ],
   "source": [
    "print(dataset_path)\n",
    "labels = []\n",
    "for i in os.listdir(dataset_path):\n",
    "  if os.path.isdir(os.path.join(dataset_path, i)):\n",
    "    labels.append(i)\n",
    "print(labels)"
   ]
  },
  {
   "cell_type": "code",
   "execution_count": 17,
   "metadata": {},
   "outputs": [
    {
     "name": "stderr",
     "output_type": "stream",
     "text": [
      "/tmp/ipykernel_4718/544766458.py:13: UserWarning: FigureCanvasAgg is non-interactive, and thus cannot be shown\n",
      "  plt.show()\n"
     ]
    }
   ],
   "source": [
    "NUM_EXAMPLES = 5\n",
    "\n",
    "for label in labels:\n",
    "  label_dir = os.path.join(dataset_path, label)\n",
    "  example_filenames = os.listdir(label_dir)[:NUM_EXAMPLES]\n",
    "  fig, axs = plt.subplots(1, NUM_EXAMPLES, figsize=(10,2))\n",
    "  for i in range(NUM_EXAMPLES):\n",
    "    axs[i].imshow(plt.imread(os.path.join(label_dir, example_filenames[i])))\n",
    "    axs[i].get_xaxis().set_visible(False)\n",
    "    axs[i].get_yaxis().set_visible(False)\n",
    "  fig.suptitle(f'Showing {NUM_EXAMPLES} examples for {label}')\n",
    "\n",
    "plt.show()"
   ]
  },
  {
   "cell_type": "markdown",
   "metadata": {},
   "source": [
    "## Load the dataset\n",
    "\n",
    "Load the dataset located at dataset_path by using the Dataset.from_folder method. When loading the dataset, run the pre-packaged hand detection model from MediaPipe Hands to detect the hand landmarks from the images. Any images without detected hands are ommitted from the dataset. The resulting dataset will contain the extracted hand landmark positions from each image, rather than images themselves.\n",
    "\n",
    "The HandDataPreprocessingParams class contains two configurable options for the data loading process:\n",
    "\n",
    "`shuffle`: A boolean controlling whether to shuffle the dataset. Defaults to true.\n",
    "`min_detection_confidence`: A float between 0 and 1 controlling the confidence threshold for hand detection.\n",
    "`Split the dataset`: 80% for training, 10% for validation, and 10% for testing."
   ]
  },
  {
   "cell_type": "markdown",
   "metadata": {},
   "source": []
  },
  {
   "cell_type": "code",
   "execution_count": null,
   "metadata": {},
   "outputs": [],
   "source": [
    "min_detection_confidence = 0.5\n",
    "\n",
    "data = gesture_recognizer.Dataset.from_folder(\n",
    "    dirname=dataset_path,\n",
    "    hparams=gesture_recognizer.HandDataPreprocessingParams(\n",
    "      min_detection_confidence=min_detection_confidence\n",
    "    )\n",
    ")\n",
    "train_data, rest_data = data.split(0.8)\n",
    "validation_data, test_data = rest_data.split(0.5)"
   ]
  },
  {
   "cell_type": "markdown",
   "metadata": {},
   "source": [
    "## Train the model\n",
    "\n",
    "Train the custom gesture recognizer by using the create method and passing in the training data, validation data, model options, and hyperparameters. For more information on model options and hyperparameters, see the Hyperparameters section below."
   ]
  },
  {
   "cell_type": "code",
   "execution_count": 19,
   "metadata": {},
   "outputs": [
    {
     "name": "stdout",
     "output_type": "stream",
     "text": [
      "Model: \"model_1\"\n",
      "_________________________________________________________________\n",
      " Layer (type)                Output Shape              Param #   \n",
      "=================================================================\n",
      " hand_embedding (InputLayer  [(None, 128)]             0         \n",
      " )                                                               \n",
      "                                                                 \n",
      " batch_normalization_1 (Bat  (None, 128)               512       \n",
      " chNormalization)                                                \n",
      "                                                                 \n",
      " re_lu_1 (ReLU)              (None, 128)               0         \n",
      "                                                                 \n",
      " dropout_1 (Dropout)         (None, 128)               0         \n",
      "                                                                 \n",
      " custom_gesture_recognizer_  (None, 4)                 516       \n",
      " out (Dense)                                                     \n",
      "                                                                 \n",
      "=================================================================\n",
      "Total params: 1028 (4.02 KB)\n",
      "Trainable params: 772 (3.02 KB)\n",
      "Non-trainable params: 256 (1.00 KB)\n",
      "_________________________________________________________________\n",
      "None\n",
      "INFO:tensorflow:Training the models...\n"
     ]
    },
    {
     "name": "stderr",
     "output_type": "stream",
     "text": [
      "INFO:tensorflow:Training the models...\n"
     ]
    },
    {
     "name": "stdout",
     "output_type": "stream",
     "text": [
      "Resuming from ../tasks/epoch_models/model-0100\n",
      "Epoch 1/20\n",
      "192/192 [==============================] - 4s 11ms/step - loss: 0.5919 - categorical_accuracy: 0.6172 - val_loss: 0.5054 - val_categorical_accuracy: 0.7917 - lr: 0.0030\n",
      "Epoch 2/20\n",
      "192/192 [==============================] - 1s 7ms/step - loss: 0.5224 - categorical_accuracy: 0.6302 - val_loss: 0.5247 - val_categorical_accuracy: 0.7917 - lr: 0.0030\n",
      "Epoch 3/20\n",
      "192/192 [==============================] - 1s 8ms/step - loss: 0.5046 - categorical_accuracy: 0.6432 - val_loss: 0.5298 - val_categorical_accuracy: 0.7500 - lr: 0.0029\n",
      "Epoch 4/20\n",
      "192/192 [==============================] - 2s 8ms/step - loss: 0.4631 - categorical_accuracy: 0.6510 - val_loss: 0.4961 - val_categorical_accuracy: 0.7500 - lr: 0.0029\n",
      "Epoch 5/20\n",
      "192/192 [==============================] - 1s 7ms/step - loss: 0.4209 - categorical_accuracy: 0.6745 - val_loss: 0.4970 - val_categorical_accuracy: 0.7500 - lr: 0.0029\n",
      "Epoch 6/20\n",
      "192/192 [==============================] - 1s 7ms/step - loss: 0.4250 - categorical_accuracy: 0.6562 - val_loss: 0.5078 - val_categorical_accuracy: 0.7500 - lr: 0.0029\n",
      "Epoch 7/20\n",
      "192/192 [==============================] - 1s 6ms/step - loss: 0.4119 - categorical_accuracy: 0.6849 - val_loss: 0.5055 - val_categorical_accuracy: 0.7500 - lr: 0.0028\n",
      "Epoch 8/20\n",
      "192/192 [==============================] - 1s 7ms/step - loss: 0.4082 - categorical_accuracy: 0.6979 - val_loss: 0.4719 - val_categorical_accuracy: 0.7500 - lr: 0.0028\n",
      "Epoch 9/20\n",
      "192/192 [==============================] - 1s 7ms/step - loss: 0.3966 - categorical_accuracy: 0.6927 - val_loss: 0.4812 - val_categorical_accuracy: 0.7500 - lr: 0.0028\n",
      "Epoch 10/20\n",
      "192/192 [==============================] - 1s 7ms/step - loss: 0.3928 - categorical_accuracy: 0.7109 - val_loss: 0.4873 - val_categorical_accuracy: 0.7500 - lr: 0.0027\n",
      "Epoch 11/20\n",
      "192/192 [==============================] - 1s 6ms/step - loss: 0.3811 - categorical_accuracy: 0.6979 - val_loss: 0.4960 - val_categorical_accuracy: 0.7500 - lr: 0.0027\n",
      "Epoch 12/20\n",
      "192/192 [==============================] - 2s 8ms/step - loss: 0.3668 - categorical_accuracy: 0.7214 - val_loss: 0.4940 - val_categorical_accuracy: 0.7500 - lr: 0.0027\n",
      "Epoch 13/20\n",
      "192/192 [==============================] - 1s 8ms/step - loss: 0.3804 - categorical_accuracy: 0.6953 - val_loss: 0.4826 - val_categorical_accuracy: 0.7500 - lr: 0.0027\n",
      "Epoch 14/20\n",
      "192/192 [==============================] - 1s 7ms/step - loss: 0.3698 - categorical_accuracy: 0.7057 - val_loss: 0.4830 - val_categorical_accuracy: 0.7500 - lr: 0.0026\n",
      "Epoch 15/20\n",
      "192/192 [==============================] - 1s 7ms/step - loss: 0.3693 - categorical_accuracy: 0.7031 - val_loss: 0.5016 - val_categorical_accuracy: 0.7500 - lr: 0.0026\n",
      "Epoch 16/20\n",
      "192/192 [==============================] - 1s 7ms/step - loss: 0.3837 - categorical_accuracy: 0.6849 - val_loss: 0.5011 - val_categorical_accuracy: 0.7500 - lr: 0.0026\n",
      "Epoch 17/20\n",
      "192/192 [==============================] - 1s 7ms/step - loss: 0.3623 - categorical_accuracy: 0.7109 - val_loss: 0.5205 - val_categorical_accuracy: 0.7292 - lr: 0.0026\n",
      "Epoch 18/20\n",
      "192/192 [==============================] - 1s 7ms/step - loss: 0.3642 - categorical_accuracy: 0.6901 - val_loss: 0.5253 - val_categorical_accuracy: 0.7292 - lr: 0.0025\n",
      "Epoch 19/20\n",
      "192/192 [==============================] - 1s 7ms/step - loss: 0.3483 - categorical_accuracy: 0.7188 - val_loss: 0.5331 - val_categorical_accuracy: 0.7292 - lr: 0.0025\n",
      "Epoch 20/20\n",
      "192/192 [==============================] - 1s 7ms/step - loss: 0.3385 - categorical_accuracy: 0.7161 - val_loss: 0.5500 - val_categorical_accuracy: 0.7292 - lr: 0.0025\n"
     ]
    }
   ],
   "source": [
    "hparams = gesture_recognizer.HParams(learning_rate=0.003, epochs=20, export_dir=\"../tasks\")\n",
    "options = gesture_recognizer.GestureRecognizerOptions(hparams=hparams)\n",
    "model = gesture_recognizer.GestureRecognizer.create(\n",
    "    train_data=train_data,\n",
    "    validation_data=validation_data,\n",
    "    options=options\n",
    ")"
   ]
  },
  {
   "cell_type": "markdown",
   "metadata": {},
   "source": [
    "## Evaluate the model performance\n",
    "\n",
    "After training the model, evaluate it on a test dataset and print the loss and accuracy metrics.\n"
   ]
  },
  {
   "cell_type": "code",
   "execution_count": 20,
   "metadata": {},
   "outputs": [
    {
     "name": "stdout",
     "output_type": "stream",
     "text": [
      "49/49 [==============================] - 1s 4ms/step - loss: 0.2028 - categorical_accuracy: 0.8571\n",
      "Test loss:0.20281541347503662, Test accuracy:0.8571428656578064\n"
     ]
    }
   ],
   "source": [
    "loss, acc = model.evaluate(test_data, batch_size=1)\n",
    "print(f\"Test loss:{loss}, Test accuracy:{acc}\")"
   ]
  },
  {
   "cell_type": "markdown",
   "metadata": {},
   "source": [
    "## Export to Tensorflow Lite Model\n",
    "\n",
    "After creating the model, convert and export it to a Tensorflow Lite model format for later use on an on-device application. The export also includes model metadata, which includes the label file.\n"
   ]
  },
  {
   "cell_type": "code",
   "execution_count": 21,
   "metadata": {},
   "outputs": [
    {
     "name": "stdout",
     "output_type": "stream",
     "text": [
      "Using existing files at /tmp/model_maker/gesture_recognizer/gesture_embedder.tflite\n",
      "Using existing files at /tmp/model_maker/gesture_recognizer/palm_detection_full.tflite\n",
      "Using existing files at /tmp/model_maker/gesture_recognizer/hand_landmark_full.tflite\n",
      "Using existing files at /tmp/model_maker/gesture_recognizer/canned_gesture_classifier.tflite\n",
      "INFO:tensorflow:Assets written to: /tmp/tmpgzrrxanh/saved_model/assets\n"
     ]
    },
    {
     "name": "stderr",
     "output_type": "stream",
     "text": [
      "INFO:tensorflow:Assets written to: /tmp/tmpgzrrxanh/saved_model/assets\n",
      "2024-03-29 13:11:35.672161: W tensorflow/compiler/mlir/lite/python/tf_tfl_flatbuffer_helpers.cc:378] Ignored output_format.\n",
      "2024-03-29 13:11:35.672231: W tensorflow/compiler/mlir/lite/python/tf_tfl_flatbuffer_helpers.cc:381] Ignored drop_control_dependency.\n",
      "2024-03-29 13:11:35.672684: I tensorflow/cc/saved_model/reader.cc:83] Reading SavedModel from: /tmp/tmpgzrrxanh/saved_model\n",
      "2024-03-29 13:11:35.675129: I tensorflow/cc/saved_model/reader.cc:51] Reading meta graph with tags { serve }\n",
      "2024-03-29 13:11:35.675203: I tensorflow/cc/saved_model/reader.cc:146] Reading SavedModel debug info (if present) from: /tmp/tmpgzrrxanh/saved_model\n",
      "2024-03-29 13:11:35.677684: I tensorflow/cc/saved_model/loader.cc:233] Restoring SavedModel bundle.\n",
      "2024-03-29 13:11:35.715369: I tensorflow/cc/saved_model/loader.cc:217] Running initialization op on SavedModel bundle at path: /tmp/tmpgzrrxanh/saved_model\n",
      "2024-03-29 13:11:35.730458: I tensorflow/cc/saved_model/loader.cc:316] SavedModel load for tags { serve }; Status: success: OK. Took 57779 microseconds.\n",
      "Summary on the non-converted ops:\n",
      "---------------------------------\n",
      " * Accepted dialects: tfl, builtin, func\n",
      " * Non-Converted Ops: 4, Total Ops 11, % non-converted = 36.36 %\n",
      " * 4 ARITH ops\n",
      "\n",
      "- arith.constant:    4 occurrences  (f32: 4)\n",
      "\n",
      "\n",
      "\n",
      "  (f32: 1)\n",
      "  (f32: 1)\n",
      "  (f32: 1)\n",
      "  (f32: 1)\n"
     ]
    }
   ],
   "source": [
    "model.export_model(\"custom_model.task\")"
   ]
  },
  {
   "cell_type": "markdown",
   "metadata": {},
   "source": [
    "## Hyperparameters\n",
    "\n",
    "You can further customize the model using the GestureRecognizerOptions class, which has two optional parameters for ModelOptions and HParams. Use the ModelOptions class to customize parameters related to the model itself, and the HParams class to customize other parameters related to training and saving the model.\n",
    "\n",
    "ModelOptions has one customizable parameter that affects accuracy:\n",
    "\n",
    "`dropout_rate`: The fraction of the input units to drop. Used in dropout layer. Defaults to 0.05.\n",
    "`layer_widths`: A list of hidden layer widths for the gesture model. Each element in the list will create a new hidden layer with the specified width. The hidden layers are separated with BatchNorm, Dropout, and ReLU. Defaults to an empty list(no hidden layers).\n",
    "\n",
    "HParams has the following list of customizable parameters which affect model accuracy:\n",
    "\n",
    "`learning_rate`: The learning rate to use for gradient descent training. Defaults to 0.001.\n",
    "`batch_size`: Batch size for training. Defaults to 2.\n",
    "`epochs`: Number of training iterations over the dataset. Defaults to 10.\n",
    "`steps_per_epoch`: An optional integer that indicates the number of training steps per epoch. If not set, the training pipeline calculates the default steps per epoch as the training dataset size divided by batch size.\n",
    "`shuffle`: True if the dataset is shuffled before training. Defaults to False.\n",
    "`lr_decay`: Learning rate decay to use for gradient descent training. Defaults to 0.99.\n",
    "`gamma`: Gamma parameter for focal loss. Defaults to 2\n",
    "\n",
    "Additional HParams parameter that does not affect model accuracy:\n",
    "\n",
    "`export_dir`: The location of the model checkpoint files and exported model files."
   ]
  },
  {
   "cell_type": "markdown",
   "metadata": {},
   "source": [
    "For example, the following trains a new model with the dropout_rate of 0.2 and learning rate of 0.003."
   ]
  },
  {
   "cell_type": "code",
   "execution_count": null,
   "metadata": {},
   "outputs": [],
   "source": [
    "hparams = gesture_recognizer.HParams(learning_rate=0.003, export_dir=\"exported_model_2\")\n",
    "model_options = gesture_recognizer.ModelOptions(dropout_rate=0.2)\n",
    "options = gesture_recognizer.GestureRecognizerOptions(model_options=model_options, hparams=hparams)\n",
    "model_2 = gesture_recognizer.GestureRecognizer.create(\n",
    "    train_data=train_data,\n",
    "    validation_data=validation_data,\n",
    "    options=options\n",
    ")"
   ]
  },
  {
   "cell_type": "code",
   "execution_count": null,
   "metadata": {},
   "outputs": [],
   "source": [
    "loss, accuracy = model_2.evaluate(test_data)\n",
    "print(f\"Test loss:{loss}, Test accuracy:{accuracy}\")"
   ]
  }
 ],
 "metadata": {
  "kernelspec": {
   "display_name": "venv",
   "language": "python",
   "name": "python3"
  },
  "language_info": {
   "codemirror_mode": {
    "name": "ipython",
    "version": 3
   },
   "file_extension": ".py",
   "mimetype": "text/x-python",
   "name": "python",
   "nbconvert_exporter": "python",
   "pygments_lexer": "ipython3",
   "version": "3.11.8"
  }
 },
 "nbformat": 4,
 "nbformat_minor": 2
}
